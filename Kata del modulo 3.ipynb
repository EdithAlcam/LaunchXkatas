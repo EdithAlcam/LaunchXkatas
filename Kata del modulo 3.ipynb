{
 "cells": [
  {
   "cell_type": "markdown",
   "metadata": {},
   "source": [
    "# Escribir declaraciones"
   ]
  },
  {
   "cell_type": "code",
   "execution_count": 2,
   "metadata": {},
   "outputs": [
    {
     "name": "stdout",
     "output_type": "stream",
     "text": [
      "¡Cuidado! Un asteroide se aceca a la tierra\n"
     ]
    }
   ],
   "source": [
    "\n",
    "asteroide = 49\n",
    "if asteroide > 25:\n",
    "    print('¡Cuidado! Un asteroide se aceca a la tierra')\n",
    "else:\n",
    "    print('No hay peligro')"
   ]
  },
  {
   "cell_type": "code",
   "execution_count": 3,
   "metadata": {},
   "outputs": [
    {
     "name": "stdout",
     "output_type": "stream",
     "text": [
      "Hay un asterodie en el cielo\n"
     ]
    }
   ],
   "source": [
    "asteroide = 19\n",
    "if asteriode > 20:\n",
    "    print('Hay un asterodie en el cielo')\n",
    "elif asteroide == 20: \n",
    "    print('Hay un asteroide en el cielo')\n",
    "else:\n",
    "    print('Asteroide fuera de alcance')\n"
   ]
  },
  {
   "cell_type": "code",
   "execution_count": 4,
   "metadata": {},
   "outputs": [
    {
     "name": "stdout",
     "output_type": "stream",
     "text": [
      "Hay un asteroide en el cielo\n"
     ]
    }
   ],
   "source": [
    "velocidad_asteroide = 25\n",
    "tamaño_asteroide = 40\n",
    "if velocidad_asteroide > 25 and tamaño_asteroide > 25:\n",
    "    print('¡Cuidado! Un asteroide se acerca a la tierra')\n",
    "elif velocidad_asteroide >= 20:\n",
    "    print('Hay un asteroide en el cielo')\n",
    "elif tamaño_asteroide < 25:\n",
    "    print('Asteroide fuera de alcance')\n",
    "else:\n",
    "    print('asteroide fuera de alcance')"
   ]
  }
 ],
 "metadata": {
  "interpreter": {
   "hash": "69eb92836b941e979072a76c7fcfffe5419cca933cedd02cfafbdfca1a93358c"
  },
  "kernelspec": {
   "display_name": "Python 3.9.10 64-bit",
   "language": "python",
   "name": "python3"
  },
  "language_info": {
   "codemirror_mode": {
    "name": "ipython",
    "version": 3
   },
   "file_extension": ".py",
   "mimetype": "text/x-python",
   "name": "python",
   "nbconvert_exporter": "python",
   "pygments_lexer": "ipython3",
   "version": "3.9.10"
  },
  "orig_nbformat": 4
 },
 "nbformat": 4,
 "nbformat_minor": 2
}
